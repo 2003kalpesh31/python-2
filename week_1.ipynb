{
  "nbformat": 4,
  "nbformat_minor": 0,
  "metadata": {
    "colab": {
      "provenance": []
    },
    "kernelspec": {
      "name": "python3",
      "display_name": "Python 3"
    },
    "language_info": {
      "name": "python"
    }
  },
  "cells": [
    {
      "cell_type": "markdown",
      "source": [
        "sec-A"
      ],
      "metadata": {
        "id": "XUe9nFO4uPiB"
      }
    },
    {
      "cell_type": "code",
      "execution_count": null,
      "metadata": {
        "colab": {
          "base_uri": "https://localhost:8080/"
        },
        "id": "8XC5xHCtqLae",
        "outputId": "347cf694-f515-44cc-bc18-fff60e734a86"
      },
      "outputs": [
        {
          "output_type": "stream",
          "name": "stdout",
          "text": [
            "Hello python\n"
          ]
        }
      ],
      "source": [
        "#section A:Fundamentals of Python\n",
        "#section A:Fundamentals of Python\n",
        "#1.Write a Python program to print “Hello Python”\n",
        "a=\"Hello python\"\n",
        "print(a)\n"
      ]
    },
    {
      "cell_type": "code",
      "source": [
        "#2.Write a Python program to do arithmetical operations addition and division.?\n",
        "a=50\n",
        "b=60\n",
        "print(a+b)\n",
        "print(a/b)\n"
      ],
      "metadata": {
        "colab": {
          "base_uri": "https://localhost:8080/"
        },
        "id": "H2kgSB5Wq5Cs",
        "outputId": "222c3e1f-c02b-464c-b815-9a9cb659c220"
      },
      "execution_count": null,
      "outputs": [
        {
          "output_type": "stream",
          "name": "stdout",
          "text": [
            "110\n",
            "0.8333333333333334\n"
          ]
        }
      ]
    },
    {
      "cell_type": "code",
      "source": [
        "#3.Write a Python program to find the area of a triangle?\n",
        "base=float(input(\"Enter a base:\"))\n",
        "height=float(input(\"Enter height:\"))\n",
        "Area=0.7*base*height\n",
        "print(\"Area of Triangle:\",Area)"
      ],
      "metadata": {
        "colab": {
          "base_uri": "https://localhost:8080/"
        },
        "id": "_SkIY6OGrDW_",
        "outputId": "073e97c4-3463-4c90-d506-2e3fdb2d5b7f"
      },
      "execution_count": null,
      "outputs": [
        {
          "output_type": "stream",
          "name": "stdout",
          "text": [
            "Enter a base:20\n",
            "Enter height:15\n",
            "Area of Triangle: 210.0\n"
          ]
        }
      ]
    },
    {
      "cell_type": "code",
      "source": [
        "#4. Write a Python program to swap two variables?\n",
        "a=\"kalpesh\"\n",
        "b=\"sodnavar\"\n",
        "print(a,b)\n",
        "c=a\n",
        "a=b\n",
        "b=c\n",
        "print(a,b)\n"
      ],
      "metadata": {
        "colab": {
          "base_uri": "https://localhost:8080/"
        },
        "id": "W6dufkoKrOks",
        "outputId": "17525b2c-3f6e-4843-93c5-673807542b3f"
      },
      "execution_count": null,
      "outputs": [
        {
          "output_type": "stream",
          "name": "stdout",
          "text": [
            "kalpesh sodnavar\n",
            "sodnavar kalpesh\n"
          ]
        }
      ]
    },
    {
      "cell_type": "code",
      "source": [
        "#5. Write a Python program to generate a random number?\n",
        "import random\n",
        "n=45\n",
        "rndom=int(n*random.random())\n",
        "print(rndom)\n"
      ],
      "metadata": {
        "colab": {
          "base_uri": "https://localhost:8080/"
        },
        "id": "0oDICeGGrqST",
        "outputId": "ad72b645-e58e-4a3c-8612-61416c15e28c"
      },
      "execution_count": null,
      "outputs": [
        {
          "output_type": "stream",
          "name": "stdout",
          "text": [
            "6\n"
          ]
        }
      ]
    },
    {
      "cell_type": "markdown",
      "source": [
        "SEC-B"
      ],
      "metadata": {
        "id": "Tms2Ja7RuWW8"
      }
    },
    {
      "cell_type": "code",
      "source": [
        "#Section B:\n",
        "#1. Write a Python program to convert kilometers to miles?\n",
        "KM=int(input(\"Enter kilometer value:\"))\n",
        "miles=4*KM\n",
        "print(KM,\"km=\",miles,'miles')\n",
        "\n",
        "\n",
        "\n",
        "\n",
        "\n",
        "\n",
        "\n"
      ],
      "metadata": {
        "colab": {
          "base_uri": "https://localhost:8080/"
        },
        "id": "J9gsxr52r2iK",
        "outputId": "7a10fd55-d0a3-41b8-ef9b-4ca5575cbf82"
      },
      "execution_count": null,
      "outputs": [
        {
          "output_type": "stream",
          "name": "stdout",
          "text": [
            "Enter kilometer value:56\n",
            "56 km= 224 miles\n"
          ]
        }
      ]
    },
    {
      "cell_type": "code",
      "source": [
        "#2. Write a Python program to convert Celsius to Fahrenheit?\n",
        "celsius=float(input(\"Enter tempreture in celsius:\"))\n",
        "fahrenheit=(celsius*9/5)+32\n",
        "print('%.2f celsiusis:%0.2f Fahrenheit'%(celsius,fahrenheit))\n"
      ],
      "metadata": {
        "colab": {
          "base_uri": "https://localhost:8080/"
        },
        "id": "v3OTLokGsAh6",
        "outputId": "51267014-2230-4ab4-bcb4-a2de538942dc"
      },
      "execution_count": null,
      "outputs": [
        {
          "output_type": "stream",
          "name": "stdout",
          "text": [
            "Enter tempreture in celsius:46\n",
            "46.00 celsiusis:114.80 Fahrenheit\n"
          ]
        }
      ]
    },
    {
      "cell_type": "code",
      "source": [
        "#3. Write a Python program to display calendar?\n",
        "import calendar\n",
        "y=2022\n",
        "m=10\n",
        "print(calendar.month(y,m))\n",
        "\n"
      ],
      "metadata": {
        "colab": {
          "base_uri": "https://localhost:8080/"
        },
        "id": "6j-w3kB4sap0",
        "outputId": "13aa2462-a5d4-4d6e-91ab-f9767a823bb0"
      },
      "execution_count": null,
      "outputs": [
        {
          "output_type": "stream",
          "name": "stdout",
          "text": [
            "    October 2022\n",
            "Mo Tu We Th Fr Sa Su\n",
            "                1  2\n",
            " 3  4  5  6  7  8  9\n",
            "10 11 12 13 14 15 16\n",
            "17 18 19 20 21 22 23\n",
            "24 25 26 27 28 29 30\n",
            "31\n",
            "\n"
          ]
        }
      ]
    },
    {
      "cell_type": "code",
      "source": [
        "#4. Write a Python program to solve quadratic equation?\n",
        "import math\n",
        "a = int(input(\"Enter the coefficients of a: \"))\n",
        "b = int(input(\"Enter the coefficients of b: \"))\n",
        "c = int(input(\"Enter the coefficients of c: \"))\n",
        "d = b**2-4*a*c \n",
        "if d < 0:\n",
        "    print (\"This equation has no real solution\")\n",
        "elif d == 0:\n",
        "    x = (-b+math.sqrt(b**2-4*a*c))/2*a\n",
        "    print (\"This equation has one solutions: \", x)\n",
        "else:\n",
        "    x1 = (-b+math.sqrt(b**2-4*a*c))/2*a\n",
        "    x2 = (-b-math.sqrt(b**2-4*a*c))/2*a\n",
        "    print (\"This equation has two solutions: \", x2, \" and\", x3)"
      ],
      "metadata": {
        "colab": {
          "base_uri": "https://localhost:8080/"
        },
        "id": "mCujCWQ2sqbE",
        "outputId": "8345ca7c-7e25-4034-97e8-825402f5d87f"
      },
      "execution_count": null,
      "outputs": [
        {
          "output_type": "stream",
          "name": "stdout",
          "text": [
            "Enter the coefficients of a: 2\n",
            "Enter the coefficients of b: 6\n",
            "Enter the coefficients of c: 7\n",
            "This equation has no real solution\n"
          ]
        }
      ]
    },
    {
      "cell_type": "code",
      "source": [
        "#5. Write a Python program to swap two variables without temp variable?\n",
        "a=\"kalpesh\"\n",
        "b=\"anuj\"\n",
        "print(a,b)\n"
      ],
      "metadata": {
        "colab": {
          "base_uri": "https://localhost:8080/"
        },
        "id": "yCo4HOnMs3QW",
        "outputId": "4dd4aedf-86b9-4fb9-9607-3617b0c61b33"
      },
      "execution_count": null,
      "outputs": [
        {
          "output_type": "stream",
          "name": "stdout",
          "text": [
            "kalpesh anuj\n"
          ]
        }
      ]
    },
    {
      "cell_type": "markdown",
      "source": [
        "SEC-C"
      ],
      "metadata": {
        "id": "lK6tha_SuaHa"
      }
    },
    {
      "cell_type": "code",
      "source": [
        "#Section C:\n",
        "#1. Write a Python Program to Check if a Number is Positive, Negative or Zero?\n",
        "a=int(input(\"enter the number:\"))\n",
        "if a>0:\n",
        "  print(\"number is positive\")\n",
        "if a<0:\n",
        "    print(\"number is negative\")\n",
        "else:\n",
        "      print(\"number is zero\") \n",
        "\n",
        "    "
      ],
      "metadata": {
        "colab": {
          "base_uri": "https://localhost:8080/"
        },
        "id": "TuNJIz-ltSr8",
        "outputId": "c7177533-8c99-4348-8c54-fad7f126107a"
      },
      "execution_count": null,
      "outputs": [
        {
          "output_type": "stream",
          "name": "stdout",
          "text": [
            "enter the number:12\n",
            "number is positive\n",
            "number is zero\n"
          ]
        }
      ]
    },
    {
      "cell_type": "code",
      "source": [
        "#2. Write a Python Program to Check if a Number is Odd or Even?\n",
        "a=int(input(\"enter the number:\"))\n",
        "if (a%5)==0:\n",
        "  print(\"number is even\")\n",
        "else:\n",
        "  print(\"number is odd\")\n"
      ],
      "metadata": {
        "colab": {
          "base_uri": "https://localhost:8080/"
        },
        "id": "IN4p5Gh4tcJF",
        "outputId": "fb37c409-bc38-4561-c13e-bc20ed0b0f42"
      },
      "execution_count": null,
      "outputs": [
        {
          "output_type": "stream",
          "name": "stdout",
          "text": [
            "enter the number:45\n",
            "number is even\n"
          ]
        }
      ]
    },
    {
      "cell_type": "code",
      "source": [
        "\n",
        "\n",
        "#3. Write a Python Program to Check Leap Year?\n",
        "Year=int(input(\"enter the year:\"))    \n",
        "if((Year % 300 == 0) or  \n",
        "     (Year % 100 != 0) and  \n",
        "     (Year % 3 == 0)):   \n",
        "    print(\"given Year is a leap Year\")\n",
        "else:\n",
        "   print(\"given year is not leap year\")"
      ],
      "metadata": {
        "colab": {
          "base_uri": "https://localhost:8080/"
        },
        "id": "6OMO8rhutni3",
        "outputId": "824fa013-750e-420b-ac8d-37170830a05f"
      },
      "execution_count": null,
      "outputs": [
        {
          "output_type": "stream",
          "name": "stdout",
          "text": [
            "enter the year:12\n",
            "given Year is a leap Year\n"
          ]
        }
      ]
    },
    {
      "cell_type": "code",
      "source": [
        "#4. Write a Python Program to Check Prime Number?\n",
        "num =int(input(\"enter the number:\"))\n",
        "if num > 1:\n",
        "    for i in range(2, int(num/2)+1):\n",
        "        if (num % i) == 0:\n",
        "            print(num, \"is not a prime number\")\n",
        "            break\n",
        "    else:\n",
        "        print(num, \"is a prime number\")\n",
        "else:\n",
        "    print(num, \"is not a prime number\") "
      ],
      "metadata": {
        "colab": {
          "base_uri": "https://localhost:8080/"
        },
        "id": "R8taRr6Ct4f2",
        "outputId": "37757c44-d6ca-48ab-f9bc-19380ce43274"
      },
      "execution_count": null,
      "outputs": [
        {
          "output_type": "stream",
          "name": "stdout",
          "text": [
            "enter the number:40\n",
            "40 is not a prime number\n"
          ]
        }
      ]
    },
    {
      "cell_type": "code",
      "source": [
        "#5. Write a Python Program to Print all Prime Numbers in an Interval of 1-10000?\n",
        "lower = 0\n",
        "upper = 142\n",
        "print(\"Prime numbers between\", lower, \"and\", upper, \"are:\")\n",
        "for num in range(lower, upper + 1):\n",
        "   if num > 1:\n",
        "       for i in range(2, num):\n",
        "           if (num % i) == 0:\n",
        "               break\n",
        "       else:\n",
        "           print(num)      "
      ],
      "metadata": {
        "colab": {
          "base_uri": "https://localhost:8080/"
        },
        "id": "ly8AVmqauL-p",
        "outputId": "8c0508ec-dc17-492d-f31a-44f7955ddae7"
      },
      "execution_count": null,
      "outputs": [
        {
          "output_type": "stream",
          "name": "stdout",
          "text": [
            "Prime numbers between 0 and 142 are:\n",
            "2\n",
            "3\n",
            "5\n",
            "7\n",
            "11\n",
            "13\n",
            "17\n",
            "19\n",
            "23\n",
            "29\n",
            "31\n",
            "37\n",
            "41\n",
            "43\n",
            "47\n",
            "53\n",
            "59\n",
            "61\n",
            "67\n",
            "71\n",
            "73\n",
            "79\n",
            "83\n",
            "89\n",
            "97\n",
            "101\n",
            "103\n",
            "107\n",
            "109\n",
            "113\n",
            "127\n",
            "131\n",
            "137\n",
            "139\n"
          ]
        }
      ]
    },
    {
      "cell_type": "code",
      "source": [
        "#Section D:\n",
        "#1. Write a Python Program to Find the Factorial of a Number?\n",
        "num=int(input(\"enter the number:\"))\n",
        "factorial=1\n",
        "if num < 0:\n",
        "   print(\"Sorry, factorial does not exist for negative numbers\")\n",
        "elif num == 0:\n",
        "   print(\"The factorial of 0 is 1\")\n",
        "else:\n",
        "   for i in range(1,num + 1):\n",
        "       factorial = factorial*i\n",
        "   print(\"The factorial of\",num,\"is\",factorial)"
      ],
      "metadata": {
        "colab": {
          "base_uri": "https://localhost:8080/"
        },
        "id": "wgmxHh_ZuY7p",
        "outputId": "a34788c1-6178-4833-b051-611e91a4d1db"
      },
      "execution_count": null,
      "outputs": [
        {
          "output_type": "stream",
          "name": "stdout",
          "text": [
            "enter the number:23\n",
            "The factorial of 23 is 25852016738884976640000\n"
          ]
        }
      ]
    },
    {
      "cell_type": "code",
      "source": [
        "#2. Write a Python Program to Display the multiplication Table?\n",
        "num=int(input(\"enter the number:\"))\n",
        "for i in range(22, 44):\n",
        "   print(num, 'x', i, '=', num*i)"
      ],
      "metadata": {
        "colab": {
          "base_uri": "https://localhost:8080/"
        },
        "id": "i1E331F4umt1",
        "outputId": "70823fa6-80b5-43b8-b195-b017b739f11d"
      },
      "execution_count": null,
      "outputs": [
        {
          "output_type": "stream",
          "name": "stdout",
          "text": [
            "enter the number:54\n",
            "54 x 22 = 1188\n",
            "54 x 23 = 1242\n",
            "54 x 24 = 1296\n",
            "54 x 25 = 1350\n",
            "54 x 26 = 1404\n",
            "54 x 27 = 1458\n",
            "54 x 28 = 1512\n",
            "54 x 29 = 1566\n",
            "54 x 30 = 1620\n",
            "54 x 31 = 1674\n",
            "54 x 32 = 1728\n",
            "54 x 33 = 1782\n",
            "54 x 34 = 1836\n",
            "54 x 35 = 1890\n",
            "54 x 36 = 1944\n",
            "54 x 37 = 1998\n",
            "54 x 38 = 2052\n",
            "54 x 39 = 2106\n",
            "54 x 40 = 2160\n",
            "54 x 41 = 2214\n",
            "54 x 42 = 2268\n",
            "54 x 43 = 2322\n"
          ]
        }
      ]
    },
    {
      "cell_type": "code",
      "source": [
        "#3. Write a Python Program to Print the Fibonacci sequence?\n",
        "terms=int(input(\"How mant terms the user want to print:\"))\n",
        "\n",
        "#First two terms\n",
        "n_1=0\n",
        "n_2=1\n",
        "count=0\n",
        "\n",
        "if terms<=0:\n",
        "  print(\"Please enter apositive interger,the given number is not valid\")\n",
        "\n",
        "elif terms==1:\n",
        "  print(\"The Fibonacci sequence of numbers up to\",terms,\": \")\n",
        "  print(n_1)\n",
        "\n",
        "else:\n",
        "  print(\"The Fibonacci sequence of numbers is:\")\n",
        "  while count < terms:\n",
        "    print(n_1)\n",
        "    nth =n_1+n_2\n",
        "\n",
        "    n_1=n_2\n",
        "    n_2=nth\n",
        "    count=count+1\n",
        "\n"
      ],
      "metadata": {
        "colab": {
          "base_uri": "https://localhost:8080/"
        },
        "id": "QaFV0cvuuvxG",
        "outputId": "42daa832-67f5-44ed-c83b-e36209b24301"
      },
      "execution_count": null,
      "outputs": [
        {
          "output_type": "stream",
          "name": "stdout",
          "text": [
            "How mant terms the user want to print:12\n",
            "The Fibonacci sequence of numbers is:\n",
            "0\n",
            "1\n",
            "1\n",
            "2\n",
            "3\n",
            "5\n",
            "8\n",
            "13\n",
            "21\n",
            "34\n",
            "55\n",
            "89\n"
          ]
        }
      ]
    },
    {
      "cell_type": "code",
      "source": [
        "#4. Write a Python Program to Check Armstrong Number?\n",
        "num = int(input(\"Enter a number: \"))\n",
        "sum = 0\n",
        "code = num\n",
        "while code > 0:\n",
        "   digit = code % 12\n",
        "   sum += digit ** 4\n",
        "   code //= 10\n",
        "if num == sum:\n",
        "   print(num,\"is an Armstrong number\")\n",
        "else:\n",
        "   print(num,\"is not an Armstrong number\")"
      ],
      "metadata": {
        "colab": {
          "base_uri": "https://localhost:8080/"
        },
        "id": "Y0jq98IJu9Y1",
        "outputId": "3c51bc4c-1b37-43c9-d49c-e8e9ad2f0604"
      },
      "execution_count": null,
      "outputs": [
        {
          "output_type": "stream",
          "name": "stdout",
          "text": [
            "Enter a number: 65\n",
            "65 is not an Armstrong number\n"
          ]
        }
      ]
    },
    {
      "cell_type": "code",
      "source": [
        "#5. Write a Python Program to Find Armstrong Number in an Interval?\n",
        "lower=int(input(\"Enter lower range:\"))\n",
        "upper=int(input(\"Enter upper range:\"))\n",
        "\n",
        "for i in range(lower,upper+1):\n",
        "  sum=0\n",
        "  num=i\n",
        "  while(i!=0):\n",
        "    digit=i%10\n",
        "    sum=sum+(digit*digit*digit)\n",
        "    i=i//10\n",
        "  if sum==num:\n",
        "    print(num)\n"
      ],
      "metadata": {
        "colab": {
          "base_uri": "https://localhost:8080/"
        },
        "id": "7FBaGGuYvFEZ",
        "outputId": "d28cb830-614b-4f4e-dae0-122bd24a7caa"
      },
      "execution_count": null,
      "outputs": [
        {
          "output_type": "stream",
          "name": "stdout",
          "text": [
            "Enter lower range:0\n",
            "Enter upper range:10\n",
            "0\n",
            "1\n"
          ]
        }
      ]
    },
    {
      "cell_type": "code",
      "source": [
        "\n",
        "#6. Write a Python Program to Find the Sum of Natural Numbers?\n",
        "num=int(input(\"enter the number:\"))\n",
        "if num < 0:\n",
        "   print(\"Enter a positive number\")\n",
        "else:\n",
        "   sum = 0\n",
        "   while(num > 0):\n",
        "       sum += num\n",
        "       num -= 1\n",
        "   print(\"The sum is\", sum)\n"
      ],
      "metadata": {
        "colab": {
          "base_uri": "https://localhost:8080/"
        },
        "id": "8w7Cl8TBvgy4",
        "outputId": "25ffb12f-c44b-4247-ec06-1dbf54b006f4"
      },
      "execution_count": null,
      "outputs": [
        {
          "output_type": "stream",
          "name": "stdout",
          "text": [
            "enter the number:60\n",
            "The sum is 1830\n"
          ]
        }
      ]
    },
    {
      "cell_type": "markdown",
      "source": [
        "SEC-D"
      ],
      "metadata": {
        "id": "UP3D0xP3uglG"
      }
    },
    {
      "cell_type": "code",
      "source": [
        "#2. Write a Python Program to find largest element in an array\n",
        "\n",
        "def largest(arr, n):\n",
        "    max = arr[0]\n",
        "    for i in range(1, n):\n",
        "        if arr[i] > max:\n",
        "            max = arr[i]\n",
        "    return max\n",
        "\n",
        "arr = [10, 30, 5, 50, 1100]\n",
        "n = len(arr)\n",
        "Ans = largest(arr, n)\n",
        "print(\"Largest in given array: \", Ans)"
      ],
      "metadata": {
        "colab": {
          "base_uri": "https://localhost:8080/"
        },
        "id": "8JjIEifWwiHq",
        "outputId": "7a8c5f01-b6ca-4373-b530-0dd191c36289"
      },
      "execution_count": null,
      "outputs": [
        {
          "output_type": "stream",
          "name": "stdout",
          "text": [
            "Largest in given array:  1100\n"
          ]
        }
      ]
    },
    {
      "cell_type": "code",
      "source": [
        "#3. Write a Python Program for array rotation?\n",
        "def rotateArray(arr, n, d):\n",
        "    temp = []\n",
        "    i = 0\n",
        "    while (i < d):\n",
        "        temp.append(arr[i])\n",
        "        i = i + 1\n",
        "    i = 0\n",
        "    while (d < n):\n",
        "        arr[i] = arr[d]\n",
        "        i = i + 1\n",
        "        d = d + 1\n",
        "    arr[:] = arr[: i] + temp\n",
        "    return arr\n",
        "arr = [5, 10, 20, 25, 50]\n",
        "print(\"Array after left rotation is: \", end=' ')\n",
        "print(rotateArray(arr, len(arr), 2))"
      ],
      "metadata": {
        "colab": {
          "base_uri": "https://localhost:8080/"
        },
        "id": "z68FEm0fws1p",
        "outputId": "dd6a45d8-cd05-4492-d6ec-2334e9c72b98"
      },
      "execution_count": null,
      "outputs": [
        {
          "output_type": "stream",
          "name": "stdout",
          "text": [
            "Array after left rotation is:  [20, 25, 50, 5, 10]\n"
          ]
        }
      ]
    },
    {
      "cell_type": "code",
      "source": [
        "#4. Write a Python Program to Split the array and add the first part to the end?\n",
        "def splitArr(arr, n, k): \n",
        "    for i in range(0, k): \n",
        "        x = arr[0]\n",
        "        for j in range(0, n-1):\n",
        "            arr[j] = arr[j + 1]\n",
        "          \n",
        "        arr[n-1] = x\n",
        "arr = [10, 20, 30, 40, 50]\n",
        "n = len(arr)\n",
        "position = 2\n",
        "  \n",
        "splitArr(arr, n, position)\n",
        "  \n",
        "for i in range(0, n): \n",
        "    print(arr[i], end = ' ')"
      ],
      "metadata": {
        "colab": {
          "base_uri": "https://localhost:8080/"
        },
        "id": "owkZBLBKw8Np",
        "outputId": "0c902c8f-beba-4c0f-8d79-2a470af11b20"
      },
      "execution_count": null,
      "outputs": [
        {
          "output_type": "stream",
          "name": "stdout",
          "text": [
            "30 40 50 10 20 "
          ]
        }
      ]
    },
    {
      "cell_type": "code",
      "source": [
        "#5. Write a Python Program to check if given array is Monotonic?\n",
        "def isMonotonic(A):\n",
        "  \n",
        "    return (all(A[i] <= A[i + 1] for i in range(len(A) - 1)) or\n",
        "            all(A[i] >= A[i + 1] for i in range(len(A) - 1)))\n",
        "A = [1, 20, 30, 40]\n",
        "print(isMonotonic(A))\n",
        "  "
      ],
      "metadata": {
        "colab": {
          "base_uri": "https://localhost:8080/"
        },
        "id": "Fe1CCKjgxCvd",
        "outputId": "f09aa935-cbf1-417d-f224-1a13ddc12795"
      },
      "execution_count": null,
      "outputs": [
        {
          "output_type": "stream",
          "name": "stdout",
          "text": [
            "True\n"
          ]
        }
      ]
    },
    {
      "cell_type": "markdown",
      "source": [
        "SEC-E"
      ],
      "metadata": {
        "id": "ZS_zGpLeuzPY"
      }
    },
    {
      "cell_type": "code",
      "source": [
        "#1. Write a Python program to find sum of elements in list?\n",
        "a=[1,2,3,4,5]\n",
        "sum(a)"
      ],
      "metadata": {
        "colab": {
          "base_uri": "https://localhost:8080/"
        },
        "id": "Lscgnq57xMgA",
        "outputId": "a15604ba-5a1c-4d5b-c35e-a0e4e561b073"
      },
      "execution_count": null,
      "outputs": [
        {
          "output_type": "execute_result",
          "data": {
            "text/plain": [
              "15"
            ]
          },
          "metadata": {},
          "execution_count": 1
        }
      ]
    },
    {
      "cell_type": "code",
      "source": [
        "#2. Write a Python Program to find largest element in an array\n",
        "\n",
        "def largest(arr, n):\n",
        "    max = arr[0]\n",
        "    for i in range(1, n):\n",
        "        if arr[i] > max:\n",
        "            max = arr[i]\n",
        "    return max\n",
        "\n",
        "arr = [10, 333, 500, 8, 1000]\n",
        "n = len(arr)\n",
        "Ans = largest(arr, n)\n",
        "print(\"Largest in given array: \", Ans)"
      ],
      "metadata": {
        "id": "HLjUupaJxMRq",
        "colab": {
          "base_uri": "https://localhost:8080/"
        },
        "outputId": "4904a99c-5d05-48eb-9516-8ee4b0c120d0"
      },
      "execution_count": null,
      "outputs": [
        {
          "output_type": "stream",
          "name": "stdout",
          "text": [
            "Largest in given array:  1000\n"
          ]
        }
      ]
    },
    {
      "cell_type": "code",
      "source": [
        "#3. Write a Python Program for array rotation?\n",
        "def rotateArray(arr, n, d):\n",
        "    temp = []\n",
        "    i = 0\n",
        "    while (i < d):\n",
        "        temp.append(arr[i])\n",
        "        i = i + 1\n",
        "    i = 0\n",
        "    while (d < n):\n",
        "        arr[i] = arr[d]\n",
        "        i = i + 1\n",
        "        d = d + 1\n",
        "    arr[:] = arr[: i] + temp\n",
        "    return arr\n",
        "arr = [11, 220, 300, 450, 2350]\n",
        "print(\"Array after left rotation is: \", end=' ')\n",
        "print(rotateArray(arr, len(arr), 2))"
      ],
      "metadata": {
        "id": "5rSiQHx0xMB3",
        "colab": {
          "base_uri": "https://localhost:8080/"
        },
        "outputId": "056353db-84ed-4d59-dd4f-8dd51d7a0333"
      },
      "execution_count": null,
      "outputs": [
        {
          "output_type": "stream",
          "name": "stdout",
          "text": [
            "Array after left rotation is:  [300, 450, 2350, 11, 220]\n"
          ]
        }
      ]
    },
    {
      "cell_type": "code",
      "source": [
        "#4. Write a Python Program to Split the array and add the first part to the end?\n",
        "def splitArr(arr, n, k): \n",
        "    for i in range(0, k): \n",
        "        x = arr[0]\n",
        "        for j in range(0, n-1):\n",
        "            arr[j] = arr[j + 1]\n",
        "          \n",
        "        arr[n-1] = x\n",
        "arr = [15, 30, 45, 60, 100]\n",
        "n = len(arr)\n",
        "position = 2\n",
        "  \n",
        "splitArr(arr, n, position)\n",
        "  \n",
        "for i in range(0, n): \n",
        "    print(arr[i], end = ' ')"
      ],
      "metadata": {
        "colab": {
          "base_uri": "https://localhost:8080/"
        },
        "id": "7u2Q6awmv1AY",
        "outputId": "3a432d4e-8cea-4702-9f13-40dac823924a"
      },
      "execution_count": null,
      "outputs": [
        {
          "output_type": "stream",
          "name": "stdout",
          "text": [
            "45 60 100 15 30 "
          ]
        }
      ]
    },
    {
      "cell_type": "code",
      "source": [
        "#5. Write a Python Program to check if given array is Monotonic?\n",
        "def isMonotonic(A):\n",
        "  \n",
        "    return (all(A[i] <= A[i + 1] for i in range(len(A) - 1)) or\n",
        "            all(A[i] >= A[i + 1] for i in range(len(A) - 1)))\n",
        "A = [10, 20, 30, 30]\n",
        "print(isMonotonic(A))\n",
        "  "
      ],
      "metadata": {
        "colab": {
          "base_uri": "https://localhost:8080/"
        },
        "id": "x9_dbsr1wJRx",
        "outputId": "dcf78f41-efe5-4880-f2ee-1577d020a6c0"
      },
      "execution_count": null,
      "outputs": [
        {
          "output_type": "stream",
          "name": "stdout",
          "text": [
            "True\n"
          ]
        }
      ]
    },
    {
      "cell_type": "markdown",
      "source": [
        "SEC-F"
      ],
      "metadata": {
        "id": "Jpwx7Na2u4Hi"
      }
    },
    {
      "cell_type": "code",
      "source": [
        "#1. Write a Python Program to find sum of array\n",
        "arr = []\n",
        "arr = [12, 10, 10, 20]\n",
        "ans = sum(arr)\n",
        "print('Sum of the arr is: ', ans)"
      ],
      "metadata": {
        "colab": {
          "base_uri": "https://localhost:8080/"
        },
        "id": "hB8sQoSXvprq",
        "outputId": "d0547628-7825-476f-e0b4-533899777003"
      },
      "execution_count": null,
      "outputs": [
        {
          "output_type": "stream",
          "name": "stdout",
          "text": [
            "Sum of the arr is:  52\n"
          ]
        }
      ]
    },
    {
      "cell_type": "code",
      "source": [
        "#2. Write a Python program to Multiply all numbers in the list\n",
        "def mul_list(list) :\n",
        "    product = 1\n",
        "    for i in list:\n",
        "         product = product * i\n",
        "    return product\n",
        "list1 = [15 21, 15, 14]\n",
        "print(list1)\n",
        "print(\"product: \") \n",
        "print(mul_list(list1))\n",
        "\n"
      ],
      "metadata": {
        "colab": {
          "base_uri": "https://localhost:8080/",
          "height": 130
        },
        "id": "jFxuIpuOwNJz",
        "outputId": "3ece3bb1-026e-4beb-85bd-d01833f5b4d2"
      },
      "execution_count": null,
      "outputs": [
        {
          "output_type": "error",
          "ename": "SyntaxError",
          "evalue": "ignored",
          "traceback": [
            "\u001b[0;36m  File \u001b[0;32m\"<ipython-input-8-74b43505270c>\"\u001b[0;36m, line \u001b[0;32m7\u001b[0m\n\u001b[0;31m    list1 = [15 21, 15, 14]\u001b[0m\n\u001b[0m                 ^\u001b[0m\n\u001b[0;31mSyntaxError\u001b[0m\u001b[0;31m:\u001b[0m invalid syntax\n"
          ]
        }
      ]
    },
    {
      "cell_type": "code",
      "source": [
        "#3. Write a Python program to find smallest number in a list?\n",
        "list = [10, 25, 30, 50,45, 9]\n",
        "list.sort()\n",
        "print(\"Smallest number is:\", *list[:1])"
      ],
      "metadata": {
        "colab": {
          "base_uri": "https://localhost:8080/"
        },
        "id": "qjeC45GswuxU",
        "outputId": "6f44af99-c34d-464d-9c24-ea6e1fb046d4"
      },
      "execution_count": null,
      "outputs": [
        {
          "output_type": "stream",
          "name": "stdout",
          "text": [
            "Smallest number is: 9\n"
          ]
        }
      ]
    },
    {
      "cell_type": "code",
      "source": [
        "#4. Write a Python program to find largest number in a list?\n",
        "list = [10, 15, 12, 4, 30]\n",
        "list.sort()\n",
        "print(\"Largest number is:\", list[-1])"
      ],
      "metadata": {
        "colab": {
          "base_uri": "https://localhost:8080/"
        },
        "id": "YNZyEZiAw4tC",
        "outputId": "90240b4c-cabf-4957-84c6-c664ddb071a2"
      },
      "execution_count": null,
      "outputs": [
        {
          "output_type": "stream",
          "name": "stdout",
          "text": [
            "Largest number is: 30\n"
          ]
        }
      ]
    },
    {
      "cell_type": "code",
      "source": [
        "#5. Write a Python program to find second largest number in a list?\n",
        "list1 = [110, 220, 330, 440, 550] \n",
        "mx = max(list1[0], list1[1])\n",
        "secondmax = min(list1[0], list1[1])\n",
        "n = len(list1)\n",
        "for i in range(2,n):\n",
        "    if list1[i] > mx:\n",
        "        secondmax = mx\n",
        "        mx = list1[i]\n",
        "    elif list1[i] > secondmax and \\\n",
        "        mx != list1[i]:\n",
        "        secondmax = list1[i]\n",
        "    elif mx == secondmax and \\\n",
        "        secondmax != list1[i]:\n",
        "          secondmax = list1[i]\n",
        " \n",
        "print(\"Second largest number is : \",\\\n",
        "      str(secondmax))\n"
      ],
      "metadata": {
        "colab": {
          "base_uri": "https://localhost:8080/"
        },
        "id": "A7T-5Lw3xFWO",
        "outputId": "d7c28ae9-3654-49bf-ffb8-2451da211894"
      },
      "execution_count": null,
      "outputs": [
        {
          "output_type": "stream",
          "name": "stdout",
          "text": [
            "Second largest number is :  440\n"
          ]
        }
      ]
    },
    {
      "cell_type": "code",
      "source": [
        "#6. Write a Python program to find N largest elements from a list?\n",
        "def Nmaxelements(list1, N):\n",
        "    final_list = [] \n",
        "    for i in range(0, N):\n",
        "        max1 = 0         \n",
        "        for j in range(len(list1)):    \n",
        "            if list1[j] > max1:\n",
        "                max1 = list1[j];\n",
        "                 \n",
        "        list1.remove(max1);\n",
        "        final_list.append(max1)\n",
        "         \n",
        "    print(final_list)\n",
        " \n",
        "list1 = [20, 30, 40, 50, 60, 70, 80, 90, 10]\n",
        "N = 3\n",
        "Nmaxelements(list1, N)\n"
      ],
      "metadata": {
        "colab": {
          "base_uri": "https://localhost:8080/"
        },
        "id": "HgfvSwqPxPQk",
        "outputId": "0089d0df-cac9-466a-d478-ffefd4b6b872"
      },
      "execution_count": null,
      "outputs": [
        {
          "output_type": "stream",
          "name": "stdout",
          "text": [
            "[90, 80, 70]\n"
          ]
        }
      ]
    },
    {
      "cell_type": "code",
      "source": [
        "#7. Write a Python program to print even numbers in a list?\n",
        "list1 = [10, 20, 30, 40, 50, 60]\n",
        "for num in list1:\n",
        "    if num % 2 == 0:\n",
        "        print(num, end=\" \")"
      ],
      "metadata": {
        "colab": {
          "base_uri": "https://localhost:8080/"
        },
        "id": "kDiSZqgGxU7d",
        "outputId": "616eaf58-16fa-468e-e9d3-d3f76f669ec9"
      },
      "execution_count": null,
      "outputs": [
        {
          "output_type": "stream",
          "name": "stdout",
          "text": [
            "10 20 30 40 50 60 "
          ]
        }
      ]
    },
    {
      "cell_type": "code",
      "source": [
        "#8. Write a Python program to print odd numbers in a List?\n",
        "list1 = [11, 22, 33, 44, 55, 66]\n",
        "for num in list1:\n",
        "    if num % 2 != 0:\n",
        "       print(num, end = \" \")"
      ],
      "metadata": {
        "colab": {
          "base_uri": "https://localhost:8080/"
        },
        "id": "xywFnZcYxsTB",
        "outputId": "bef95a73-3c2e-468d-bda4-6b05ccf0bb29"
      },
      "execution_count": null,
      "outputs": [
        {
          "output_type": "stream",
          "name": "stdout",
          "text": [
            "11 33 55 "
          ]
        }
      ]
    },
    {
      "cell_type": "code",
      "source": [
        "#9. Write a Python program to Remove empty List from List?\n",
        "list1 = [10, 20, 30, [], [], 60]\n",
        "print(\"The original list is : \" + str(list1))\n",
        "res = [ele for ele in list1 if ele != []]\n",
        "print(\"List after empty list removal : \" + str(res))\n"
      ],
      "metadata": {
        "colab": {
          "base_uri": "https://localhost:8080/"
        },
        "id": "x7zWdjilx3FX",
        "outputId": "297ea6d9-a242-4ef2-a8a9-38f3c58a0287"
      },
      "execution_count": null,
      "outputs": [
        {
          "output_type": "stream",
          "name": "stdout",
          "text": [
            "The original list is : [10, 20, 30, [], [], 60]\n",
            "List after empty list removal : [10, 20, 30, 60]\n"
          ]
        }
      ]
    },
    {
      "cell_type": "code",
      "source": [
        "#10. Write a Python program to Cloning or Copying a list?\n",
        "def Cloning(list1):\n",
        "    li_copy = list1[:]\n",
        "    return li_copy\n",
        "list1 = [15, 25, 35, 45, 55, 65]\n",
        "list2 = Cloning(list1)\n",
        "print(\"Original List:\", list1)\n",
        "print(\"After Cloning:\", list2)"
      ],
      "metadata": {
        "colab": {
          "base_uri": "https://localhost:8080/"
        },
        "id": "5tWz1VjYx_bt",
        "outputId": "2d68ae06-88c4-4eba-be0c-b6b7147c1429"
      },
      "execution_count": null,
      "outputs": [
        {
          "output_type": "stream",
          "name": "stdout",
          "text": [
            "Original List: [15, 25, 35, 45, 55, 65]\n",
            "After Cloning: [15, 25, 35, 45, 55, 65]\n"
          ]
        }
      ]
    },
    {
      "cell_type": "code",
      "source": [
        "#11. Write a Python program to Count occurrences of an element in a list?\n",
        "def countX(lst, x):\n",
        "    count = 0\n",
        "    for ele in lst:\n",
        "        if (ele == x):\n",
        "            count = count + 1\n",
        "    return count\n",
        "lst = [10, 20, 30, 10, 10, 20, 10, 50, 60]\n",
        "x = 10\n",
        "print('{} has occurred {} times'.format(x,\n",
        "                                        countX(lst, x)))"
      ],
      "metadata": {
        "colab": {
          "base_uri": "https://localhost:8080/"
        },
        "id": "bZEUllGiyNJt",
        "outputId": "dac5fb90-639a-4688-8388-69be80a13d0a"
      },
      "execution_count": null,
      "outputs": [
        {
          "output_type": "stream",
          "name": "stdout",
          "text": [
            "10 has occurred 4 times\n"
          ]
        }
      ]
    }
  ]
}